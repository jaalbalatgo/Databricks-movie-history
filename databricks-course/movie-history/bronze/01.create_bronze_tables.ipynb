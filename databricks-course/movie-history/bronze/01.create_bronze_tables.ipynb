{
 "cells": [
  {
   "cell_type": "markdown",
   "metadata": {
    "application/vnd.databricks.v1+cell": {
     "cellMetadata": {},
     "inputWidgets": {},
     "nuid": "16b2c906-fa4f-4223-8c60-d9f1847f1240",
     "showTitle": false,
     "tableResultSettingsMap": {},
     "title": ""
    }
   },
   "source": [
    "### Crear schema \"movie_bronze\""
   ]
  },
  {
   "cell_type": "code",
   "execution_count": 0,
   "metadata": {
    "application/vnd.databricks.v1+cell": {
     "cellMetadata": {
      "byteLimit": 2048000,
      "rowLimit": 10000
     },
     "inputWidgets": {},
     "nuid": "d4d002cd-9dab-482a-8554-e75a67b6fb8a",
     "showTitle": false,
     "tableResultSettingsMap": {},
     "title": ""
    }
   },
   "outputs": [],
   "source": [
    "CREATE SCHEMA IF NOT EXISTS movie_bronze;"
   ]
  },
  {
   "cell_type": "markdown",
   "metadata": {
    "application/vnd.databricks.v1+cell": {
     "cellMetadata": {},
     "inputWidgets": {},
     "nuid": "4a18e79d-0f09-4fcd-b843-3ce4746ebdef",
     "showTitle": false,
     "tableResultSettingsMap": {},
     "title": ""
    }
   },
   "source": [
    "### Crear tablas para archivos CSV"
   ]
  },
  {
   "cell_type": "markdown",
   "metadata": {
    "application/vnd.databricks.v1+cell": {
     "cellMetadata": {},
     "inputWidgets": {},
     "nuid": "c3545ca0-f0b9-48fb-9171-667a3dc0360e",
     "showTitle": false,
     "tableResultSettingsMap": {},
     "title": ""
    }
   },
   "source": [
    "#### Crear la tabla \"movies\""
   ]
  },
  {
   "cell_type": "code",
   "execution_count": 0,
   "metadata": {
    "application/vnd.databricks.v1+cell": {
     "cellMetadata": {
      "byteLimit": 2048000,
      "rowLimit": 10000
     },
     "inputWidgets": {},
     "nuid": "8e1c4752-b42a-4950-985b-39daa7c70a72",
     "showTitle": false,
     "tableResultSettingsMap": {},
     "title": ""
    }
   },
   "outputs": [],
   "source": [
    "DROP TABLE IF EXISTS movie_bronze.movies;\n",
    "CREATE TABLE IF NOT EXISTS movie_bronze.movies(\n",
    "  moveId INT,\n",
    "  title STRING,\n",
    "  budget DOUBLE,\n",
    "  popularity DOUBLE,\n",
    "  yearReleaseDate INT,\n",
    "  releaseDate DATE,\n",
    "  revenue DOUBLE,\n",
    "  durationTime INT,\n",
    "  voteAverage DOUBLE,\n",
    "  voteCount INT\n",
    ") \n",
    "USING CSV\n",
    "OPTIONS (path \"/mnt/moviehistoryjaag/bronze/movie.csv\", header true);"
   ]
  },
  {
   "cell_type": "code",
   "execution_count": 0,
   "metadata": {
    "application/vnd.databricks.v1+cell": {
     "cellMetadata": {
      "byteLimit": 2048000,
      "rowLimit": 10000
     },
     "inputWidgets": {},
     "nuid": "f0e6a8a3-98ff-45d1-bc57-0029867a2d47",
     "showTitle": false,
     "tableResultSettingsMap": {},
     "title": ""
    }
   },
   "outputs": [],
   "source": [
    "SELECT * FROM movie_bronze.movies;"
   ]
  },
  {
   "cell_type": "markdown",
   "metadata": {
    "application/vnd.databricks.v1+cell": {
     "cellMetadata": {},
     "inputWidgets": {},
     "nuid": "de61c33f-d836-4318-bf72-315192218e62",
     "showTitle": false,
     "tableResultSettingsMap": {},
     "title": ""
    }
   },
   "source": [
    "#### Crear la tabla \"languages\""
   ]
  },
  {
   "cell_type": "code",
   "execution_count": 0,
   "metadata": {
    "application/vnd.databricks.v1+cell": {
     "cellMetadata": {
      "byteLimit": 2048000,
      "rowLimit": 10000
     },
     "inputWidgets": {},
     "nuid": "ef38d6e0-5dba-4283-9d97-bbfa2a3a17cb",
     "showTitle": false,
     "tableResultSettingsMap": {},
     "title": ""
    }
   },
   "outputs": [],
   "source": [
    "DROP TABLE IF EXISTS movie_bronze.languages;\n",
    "CREATE TABLE IF NOT EXISTS movie_bronze.languages(\n",
    "  languageId INT,\n",
    "  languageCode STRING,\n",
    "  languageName STRING\n",
    ")\n",
    "USING CSV\n",
    "OPTIONS (path \"/mnt/moviehistoryjaag/bronze/language.csv\", header true);"
   ]
  },
  {
   "cell_type": "code",
   "execution_count": 0,
   "metadata": {
    "application/vnd.databricks.v1+cell": {
     "cellMetadata": {
      "byteLimit": 2048000,
      "rowLimit": 10000
     },
     "inputWidgets": {},
     "nuid": "9c2b12f4-7fe1-40d9-a1c4-1bde6232f71c",
     "showTitle": false,
     "tableResultSettingsMap": {},
     "title": ""
    }
   },
   "outputs": [],
   "source": [
    "SELECT * FROM movie_bronze.languages;"
   ]
  },
  {
   "cell_type": "markdown",
   "metadata": {
    "application/vnd.databricks.v1+cell": {
     "cellMetadata": {},
     "inputWidgets": {},
     "nuid": "44239c09-d283-465b-8cd5-e4c755a67f7e",
     "showTitle": false,
     "tableResultSettingsMap": {},
     "title": ""
    }
   },
   "source": [
    "#### Crear la tabla \"genres\""
   ]
  },
  {
   "cell_type": "code",
   "execution_count": 0,
   "metadata": {
    "application/vnd.databricks.v1+cell": {
     "cellMetadata": {
      "byteLimit": 2048000,
      "rowLimit": 10000
     },
     "inputWidgets": {},
     "nuid": "b03c34e9-7ba6-4d55-ac2c-35daf8306dea",
     "showTitle": false,
     "tableResultSettingsMap": {},
     "title": ""
    }
   },
   "outputs": [],
   "source": [
    "DROP TABLE IF EXISTS movie_bronze.genres;\n",
    "CREATE TABLE IF NOT EXISTS movie_bronze.genres(\n",
    "  genreId INT,\n",
    "  genreName STRING\n",
    ")\n",
    "USING CSV\n",
    "OPTIONS(path \"/mnt/moviehistoryjaag/bronze/genre.csv\", header true);"
   ]
  },
  {
   "cell_type": "code",
   "execution_count": 0,
   "metadata": {
    "application/vnd.databricks.v1+cell": {
     "cellMetadata": {
      "byteLimit": 2048000,
      "rowLimit": 10000
     },
     "inputWidgets": {},
     "nuid": "6ccb168c-bae4-48ec-b1dd-259baff4672b",
     "showTitle": false,
     "tableResultSettingsMap": {},
     "title": ""
    }
   },
   "outputs": [],
   "source": [
    "SELECT * FROM movie_bronze.genres;"
   ]
  },
  {
   "cell_type": "markdown",
   "metadata": {
    "application/vnd.databricks.v1+cell": {
     "cellMetadata": {},
     "inputWidgets": {},
     "nuid": "496f0d9f-ae63-4117-9ded-bf76c0ee6b45",
     "showTitle": false,
     "tableResultSettingsMap": {},
     "title": ""
    }
   },
   "source": [
    "###  Crear tablas para archivos JSON"
   ]
  },
  {
   "cell_type": "markdown",
   "metadata": {
    "application/vnd.databricks.v1+cell": {
     "cellMetadata": {},
     "inputWidgets": {},
     "nuid": "efcb772b-7472-4666-b7ac-9a8c018ef274",
     "showTitle": false,
     "tableResultSettingsMap": {},
     "title": ""
    }
   },
   "source": [
    "#### Crear la tabla \"countries\"\n",
    "- JSON de una sola línea\n",
    "- Estructura Simple"
   ]
  },
  {
   "cell_type": "code",
   "execution_count": 0,
   "metadata": {
    "application/vnd.databricks.v1+cell": {
     "cellMetadata": {
      "byteLimit": 2048000,
      "rowLimit": 10000
     },
     "inputWidgets": {},
     "nuid": "b706c0a0-f71a-40b4-99ca-47c252ac2de9",
     "showTitle": false,
     "tableResultSettingsMap": {},
     "title": ""
    }
   },
   "outputs": [],
   "source": [
    "DROP TABLE IF EXISTS movie_bronze.countries;\n",
    "CREATE TABLE IF NOT EXISTS movie_bronze.countries(\n",
    "  countryId INT,\n",
    "  countryIsoCode STRING,\n",
    "  countryName STRING\n",
    ")\n",
    "USING JSON\n",
    "OPTIONS (path \"/mnt/moviehistoryjaag/bronze/country.json\");\n"
   ]
  },
  {
   "cell_type": "code",
   "execution_count": 0,
   "metadata": {
    "application/vnd.databricks.v1+cell": {
     "cellMetadata": {
      "byteLimit": 2048000,
      "rowLimit": 10000
     },
     "inputWidgets": {},
     "nuid": "7c29e144-34c7-492c-a08a-3231af683025",
     "showTitle": false,
     "tableResultSettingsMap": {
      "0": {
       "dataGridStateBlob": "{\"version\":1,\"tableState\":{\"columnPinning\":{\"left\":[\"#row_number#\"],\"right\":[]},\"columnSizing\":{},\"columnVisibility\":{}},\"settings\":{\"columns\":{}},\"syncTimestamp\":1759233762892}",
       "filterBlob": null,
       "queryPlanFiltersBlob": null,
       "tableResultIndex": 0
      }
     },
     "title": ""
    }
   },
   "outputs": [],
   "source": [
    "SELECT * FROM movie_bronze.countries;"
   ]
  },
  {
   "cell_type": "markdown",
   "metadata": {
    "application/vnd.databricks.v1+cell": {
     "cellMetadata": {},
     "inputWidgets": {},
     "nuid": "1a3a769b-9b09-4d05-b1c9-083798635612",
     "showTitle": false,
     "tableResultSettingsMap": {},
     "title": ""
    }
   },
   "source": [
    "#### Crear la tabla \"persons\"\n",
    "- JSON de una sola línea\n",
    "- Estructura Compleja"
   ]
  },
  {
   "cell_type": "code",
   "execution_count": 0,
   "metadata": {
    "application/vnd.databricks.v1+cell": {
     "cellMetadata": {
      "byteLimit": 2048000,
      "rowLimit": 10000
     },
     "inputWidgets": {},
     "nuid": "e6a0dc6d-bad0-464b-a036-f55c910aec84",
     "showTitle": false,
     "tableResultSettingsMap": {},
     "title": ""
    }
   },
   "outputs": [],
   "source": [
    "DROP TABLE IF EXISTS movie_bronze.persons;\n",
    "CREATE TABLE IF NOT EXISTS movie_bronze.persons(\n",
    "  personId INT,\n",
    "  personName STRUCT <forename: STRING, lastname: STRING>\n",
    ")\n",
    "USING JSON\n",
    "OPTIONS (path \"/mnt/moviehistoryjaag/bronze/person.json\");"
   ]
  },
  {
   "cell_type": "code",
   "execution_count": 0,
   "metadata": {
    "application/vnd.databricks.v1+cell": {
     "cellMetadata": {
      "byteLimit": 2048000,
      "rowLimit": 10000
     },
     "collapsed": true,
     "inputWidgets": {},
     "nuid": "7a09a44c-c4f8-43e6-b26c-09558b3ad44e",
     "showTitle": false,
     "tableResultSettingsMap": {},
     "title": ""
    }
   },
   "outputs": [],
   "source": [
    "SELECT * FROM movie_bronze.persons;"
   ]
  },
  {
   "cell_type": "markdown",
   "metadata": {
    "application/vnd.databricks.v1+cell": {
     "cellMetadata": {},
     "inputWidgets": {},
     "nuid": "6836f687-2660-4f50-bfdf-44d8ebccad97",
     "showTitle": false,
     "tableResultSettingsMap": {},
     "title": ""
    }
   },
   "source": [
    "#### Crear la tabla \"movies_genres\"\n",
    "- JSON de una sola línea\n",
    "- Estructura Simple"
   ]
  },
  {
   "cell_type": "code",
   "execution_count": 0,
   "metadata": {
    "application/vnd.databricks.v1+cell": {
     "cellMetadata": {
      "byteLimit": 2048000,
      "rowLimit": 10000
     },
     "inputWidgets": {},
     "nuid": "bb8db688-3dac-428e-b490-5efe58b5f77a",
     "showTitle": false,
     "tableResultSettingsMap": {},
     "title": ""
    }
   },
   "outputs": [],
   "source": [
    "DROP TABLE IF EXISTS movie_bronze.movies_genres;\n",
    "CREATE TABLE IF NOT EXISTS movie_bronze.movies_genres(\n",
    "  movieId INT,\n",
    "  genreId INT\n",
    ")\n",
    "USING JSON\n",
    "OPTIONS (path \"/mnt/moviehistoryjaag/bronze/movie_genre.json\");"
   ]
  },
  {
   "cell_type": "code",
   "execution_count": 0,
   "metadata": {
    "application/vnd.databricks.v1+cell": {
     "cellMetadata": {
      "byteLimit": 2048000,
      "rowLimit": 10000
     },
     "inputWidgets": {},
     "nuid": "01a69c24-059c-45a2-a962-17d18c4dbeb9",
     "showTitle": false,
     "tableResultSettingsMap": {},
     "title": ""
    }
   },
   "outputs": [],
   "source": [
    "SELECT * FROM movie_bronze.movies_genres;"
   ]
  },
  {
   "cell_type": "markdown",
   "metadata": {
    "application/vnd.databricks.v1+cell": {
     "cellMetadata": {},
     "inputWidgets": {},
     "nuid": "b8868552-4fd1-4fc1-8f2d-e089323857b0",
     "showTitle": false,
     "tableResultSettingsMap": {},
     "title": ""
    }
   },
   "source": [
    "#### Crear la tabla \"movies_cast\"\n",
    "- JSON multiples\n",
    "- Estructura Simple"
   ]
  },
  {
   "cell_type": "code",
   "execution_count": 0,
   "metadata": {
    "application/vnd.databricks.v1+cell": {
     "cellMetadata": {
      "byteLimit": 2048000,
      "rowLimit": 10000
     },
     "inputWidgets": {},
     "nuid": "8fc081c5-04f3-4da9-b99b-e5d42791c972",
     "showTitle": false,
     "tableResultSettingsMap": {},
     "title": ""
    }
   },
   "outputs": [],
   "source": [
    "DROP TABLE IF EXISTS movie_bronze.movies_cast;\n",
    "CREATE TABLE IF NOT EXISTS movie_bronze.movies_cast(\n",
    "  movieId INT,\n",
    "  personId INT,\n",
    "  characterName STRING,\n",
    "  genderId INT,\n",
    "  castOrder INT\n",
    ")\n",
    "USING JSON\n",
    "OPTIONS (path \"/mnt/moviehistoryjaag/bronze/movie_cast.json\", multiLine true);"
   ]
  },
  {
   "cell_type": "code",
   "execution_count": 0,
   "metadata": {
    "application/vnd.databricks.v1+cell": {
     "cellMetadata": {
      "byteLimit": 2048000,
      "rowLimit": 10000
     },
     "inputWidgets": {},
     "nuid": "ef596c2f-db31-4d98-9b73-bfc0cffa4d1b",
     "showTitle": false,
     "tableResultSettingsMap": {},
     "title": ""
    }
   },
   "outputs": [],
   "source": [
    "SELECT * FROM movie_bronze.movies_cast;"
   ]
  },
  {
   "cell_type": "markdown",
   "metadata": {
    "application/vnd.databricks.v1+cell": {
     "cellMetadata": {},
     "inputWidgets": {},
     "nuid": "b7c2ec2d-be2b-4069-992a-ac0e0353c1d9",
     "showTitle": false,
     "tableResultSettingsMap": {},
     "title": ""
    }
   },
   "source": [
    "#### Crear la tabla \"languages_roles\"\n",
    "- JSON multiples\n",
    "- Estructura Simple"
   ]
  },
  {
   "cell_type": "code",
   "execution_count": 0,
   "metadata": {
    "application/vnd.databricks.v1+cell": {
     "cellMetadata": {
      "byteLimit": 2048000,
      "rowLimit": 10000
     },
     "inputWidgets": {},
     "nuid": "8341f555-d32b-4218-a7e4-c30a85a811c1",
     "showTitle": false,
     "tableResultSettingsMap": {},
     "title": ""
    }
   },
   "outputs": [],
   "source": [
    "DROP TABLE IF EXISTS movie_bronze.languages_roles;\n",
    "CREATE TABLE IF NOT EXISTS movie_bronze.languages_roles(\n",
    "  roleId INT,\n",
    "  languageRole STRING\n",
    ")\n",
    "USING JSON\n",
    "OPTIONS (path \"/mnt/moviehistoryjaag/bronze/language_role.json\", multiLine true);"
   ]
  },
  {
   "cell_type": "code",
   "execution_count": 0,
   "metadata": {
    "application/vnd.databricks.v1+cell": {
     "cellMetadata": {
      "byteLimit": 2048000,
      "rowLimit": 10000
     },
     "inputWidgets": {},
     "nuid": "c1e9508b-131b-4109-af72-3b5fc7feeb38",
     "showTitle": false,
     "tableResultSettingsMap": {},
     "title": ""
    }
   },
   "outputs": [],
   "source": [
    "SELECT * FROM movie_bronze.languages_roles;"
   ]
  },
  {
   "cell_type": "markdown",
   "metadata": {
    "application/vnd.databricks.v1+cell": {
     "cellMetadata": {},
     "inputWidgets": {},
     "nuid": "d9135e83-5a11-4d21-bb53-4fd5cd62688e",
     "showTitle": false,
     "tableResultSettingsMap": {},
     "title": ""
    }
   },
   "source": [
    "### Crear tablas para Lista de Archivos(CSVs y JSONs)\n"
   ]
  },
  {
   "cell_type": "markdown",
   "metadata": {
    "application/vnd.databricks.v1+cell": {
     "cellMetadata": {},
     "inputWidgets": {},
     "nuid": "2dfc348b-ad12-4f8c-a76b-faca9452cd96",
     "showTitle": false,
     "tableResultSettingsMap": {},
     "title": ""
    }
   },
   "source": [
    "#### Crear la tabla \"productions_companies\"\n",
    "- Archivo CSV\n",
    "- Múltiples Archivos"
   ]
  },
  {
   "cell_type": "code",
   "execution_count": 0,
   "metadata": {
    "application/vnd.databricks.v1+cell": {
     "cellMetadata": {
      "byteLimit": 2048000,
      "rowLimit": 10000
     },
     "inputWidgets": {},
     "nuid": "bd891e71-a433-4f2f-badf-2e6330f243bf",
     "showTitle": false,
     "tableResultSettingsMap": {},
     "title": ""
    }
   },
   "outputs": [],
   "source": [
    "DROP TABLE IF EXISTS movie_bronze.productions_companies;\n",
    "CREATE TABLE IF NOT EXISTS movie_bronze.productions_companies(\n",
    "  companyId INT,\n",
    "  companyName STRING\n",
    ")\n",
    "USING CSV\n",
    "OPTIONS (path \"/mnt/moviehistoryjaag/bronze/production_company\")"
   ]
  },
  {
   "cell_type": "code",
   "execution_count": 0,
   "metadata": {
    "application/vnd.databricks.v1+cell": {
     "cellMetadata": {
      "byteLimit": 2048000,
      "rowLimit": 10000
     },
     "inputWidgets": {},
     "nuid": "029dd679-387e-4620-9338-3873ff20a99c",
     "showTitle": false,
     "tableResultSettingsMap": {},
     "title": ""
    }
   },
   "outputs": [],
   "source": [
    "SELECT * FROM movie_bronze.productions_companies;"
   ]
  },
  {
   "cell_type": "markdown",
   "metadata": {
    "application/vnd.databricks.v1+cell": {
     "cellMetadata": {},
     "inputWidgets": {},
     "nuid": "ab00cfd7-e47b-4ee0-a797-7026f05e6edc",
     "showTitle": false,
     "tableResultSettingsMap": {},
     "title": ""
    }
   },
   "source": [
    "#### Crear la tabla \"movies_companies\"\n",
    "- Archivo CSV\n",
    "- Múltiples Archivos"
   ]
  },
  {
   "cell_type": "code",
   "execution_count": 0,
   "metadata": {
    "application/vnd.databricks.v1+cell": {
     "cellMetadata": {
      "byteLimit": 2048000,
      "rowLimit": 10000
     },
     "inputWidgets": {},
     "nuid": "dbe25148-d0b5-4565-9b38-bf3c5ae21779",
     "showTitle": false,
     "tableResultSettingsMap": {},
     "title": ""
    }
   },
   "outputs": [],
   "source": [
    "DROP TABLE IF EXISTS movie_bronze.moviess_companies;\n",
    "CREATE TABLE IF NOT EXISTS movie_bronze.movies_companies(\n",
    "  movieId INT,\n",
    "  companyId INT\n",
    ")\n",
    "USING CSV\n",
    "OPTIONS (path \"/mnt/moviehistoryjaag/bronze/movie_company\")"
   ]
  },
  {
   "cell_type": "code",
   "execution_count": 0,
   "metadata": {
    "application/vnd.databricks.v1+cell": {
     "cellMetadata": {
      "byteLimit": 2048000,
      "rowLimit": 10000
     },
     "inputWidgets": {},
     "nuid": "5959bca2-fd6e-43b2-adf3-9faabda482d3",
     "showTitle": false,
     "tableResultSettingsMap": {},
     "title": ""
    }
   },
   "outputs": [],
   "source": [
    "SELECT * FROM movie_bronze.movies_companies;"
   ]
  },
  {
   "cell_type": "markdown",
   "metadata": {
    "application/vnd.databricks.v1+cell": {
     "cellMetadata": {},
     "inputWidgets": {},
     "nuid": "1b6533e0-a24a-4c7b-bddd-4729ce328e93",
     "showTitle": false,
     "tableResultSettingsMap": {},
     "title": ""
    }
   },
   "source": [
    "#### Crear la tabla \"movies_languages\"\n",
    "- Archivo JSON Multilínea\n",
    "- Múltiples Archivos"
   ]
  },
  {
   "cell_type": "code",
   "execution_count": 0,
   "metadata": {
    "application/vnd.databricks.v1+cell": {
     "cellMetadata": {
      "byteLimit": 2048000,
      "rowLimit": 10000
     },
     "inputWidgets": {},
     "nuid": "0dee6cd0-93df-461b-8ded-b934544c7c11",
     "showTitle": false,
     "tableResultSettingsMap": {},
     "title": ""
    }
   },
   "outputs": [],
   "source": [
    "DROP TABLE IF EXISTS movie_bronze.movies_languages;\n",
    "CREATE TABLE IF NOT EXISTS movie_bronze.movies_languages(\n",
    "  companyId INT,\n",
    "  languageId INT,\n",
    "  languageRoleId INT\n",
    ")\n",
    "USING JSON\n",
    "OPTIONS (path \"/mnt/moviehistoryjaag/bronze/movie_language\",multiLine true)"
   ]
  },
  {
   "cell_type": "code",
   "execution_count": 0,
   "metadata": {
    "application/vnd.databricks.v1+cell": {
     "cellMetadata": {
      "byteLimit": 2048000,
      "rowLimit": 10000
     },
     "inputWidgets": {},
     "nuid": "09ad552b-b97b-4f79-9d2a-38b30fef4354",
     "showTitle": false,
     "tableResultSettingsMap": {},
     "title": ""
    }
   },
   "outputs": [],
   "source": [
    "SELECT * FROM movie_bronze.movies_languages;"
   ]
  },
  {
   "cell_type": "markdown",
   "metadata": {
    "application/vnd.databricks.v1+cell": {
     "cellMetadata": {},
     "inputWidgets": {},
     "nuid": "661c4b5d-6710-42fc-87a2-95619dff73a9",
     "showTitle": false,
     "tableResultSettingsMap": {},
     "title": ""
    }
   },
   "source": [
    "#### Crear la tabla \"productions_countries\"\n",
    "- Archivo JSON Multilínea\n",
    "- Múltiples Archivos"
   ]
  },
  {
   "cell_type": "code",
   "execution_count": 0,
   "metadata": {
    "application/vnd.databricks.v1+cell": {
     "cellMetadata": {
      "byteLimit": 2048000,
      "rowLimit": 10000
     },
     "inputWidgets": {},
     "nuid": "f9b57329-5f96-4ba3-bdcc-ff9ed66e2c48",
     "showTitle": false,
     "tableResultSettingsMap": {},
     "title": ""
    }
   },
   "outputs": [],
   "source": [
    "DROP TABLE IF EXISTS movie_bronze.productions_countries;\n",
    "CREATE TABLE IF NOT EXISTS movie_bronze.productions_countries(\n",
    "  movieId INT,\n",
    "  countryId INT\n",
    ")\n",
    "USING JSON\n",
    "OPTIONS (path \"/mnt/moviehistoryjaag/bronze/producton_country\",multiLine true)"
   ]
  },
  {
   "cell_type": "code",
   "execution_count": 0,
   "metadata": {
    "application/vnd.databricks.v1+cell": {
     "cellMetadata": {
      "byteLimit": 2048000,
      "rowLimit": 10000
     },
     "inputWidgets": {},
     "nuid": "b9f88b22-24a5-4ccd-a02c-b9f4a12c86b5",
     "showTitle": false,
     "tableResultSettingsMap": {},
     "title": ""
    }
   },
   "outputs": [],
   "source": [
    "SELECT * FROM movie_bronze.productions_countries;"
   ]
  }
 ],
 "metadata": {
  "application/vnd.databricks.v1+notebook": {
   "computePreferences": null,
   "dashboards": [],
   "environmentMetadata": {
    "base_environment": "",
    "environment_version": "3"
   },
   "inputWidgetPreferences": null,
   "language": "sql",
   "notebookMetadata": {
    "pythonIndentUnit": 4
   },
   "notebookName": "01.create_bronze_tables",
   "widgets": {}
  },
  "language_info": {
   "name": "sql"
  }
 },
 "nbformat": 4,
 "nbformat_minor": 0
}
