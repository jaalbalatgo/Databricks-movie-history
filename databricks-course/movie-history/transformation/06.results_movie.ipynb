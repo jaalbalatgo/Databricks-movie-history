{
 "cells": [
  {
   "cell_type": "markdown",
   "metadata": {
    "application/vnd.databricks.v1+cell": {
     "cellMetadata": {
      "byteLimit": 2048000,
      "rowLimit": 10000
     },
     "inputWidgets": {},
     "nuid": "c535d944-e072-44f9-92be-8669a4863c4c",
     "showTitle": false,
     "tableResultSettingsMap": {},
     "title": ""
    }
   },
   "source": [
    "### Crear la Tabla results_movie en la capa \"gold\""
   ]
  },
  {
   "cell_type": "code",
   "execution_count": 0,
   "metadata": {
    "application/vnd.databricks.v1+cell": {
     "cellMetadata": {
      "byteLimit": 2048000,
      "rowLimit": 10000
     },
     "inputWidgets": {},
     "nuid": "72a836f7-9db1-45cc-b823-f1341f6569e6",
     "showTitle": false,
     "tableResultSettingsMap": {},
     "title": ""
    }
   },
   "outputs": [],
   "source": [
    "dbutils.widgets.text(\"p_file_date\",\"2024-12-30\")\n",
    "v_file_date = dbutils.widgets.get(\"p_file_date\")"
   ]
  },
  {
   "cell_type": "code",
   "execution_count": 0,
   "metadata": {
    "application/vnd.databricks.v1+cell": {
     "cellMetadata": {
      "byteLimit": 2048000,
      "rowLimit": 10000
     },
     "inputWidgets": {},
     "nuid": "ef7b6e9f-66c3-4548-8e8a-66dec4709d34",
     "showTitle": false,
     "tableResultSettingsMap": {},
     "title": ""
    }
   },
   "outputs": [],
   "source": [
    "spark.sql(\"\"\"\n",
    "          CREATE TABLE IF NOT EXISTS movie_gold.results_movie\n",
    "          (\n",
    "            year_release_date INT,\n",
    "            country_name STRING,\n",
    "            company_name STRING,\n",
    "            budget FLOAT,\n",
    "            revenue FLOAT,\n",
    "            movie_id INT,\n",
    "            country_id INT,\n",
    "            company_id INT,\n",
    "            created_date DATE,\n",
    "            updated_date DATE\n",
    "            )\n",
    "          USING DELTA\n",
    "          \"\"\")"
   ]
  },
  {
   "cell_type": "code",
   "execution_count": 0,
   "metadata": {
    "application/vnd.databricks.v1+cell": {
     "cellMetadata": {
      "byteLimit": 2048000,
      "rowLimit": 10000
     },
     "inputWidgets": {},
     "nuid": "1e20024d-ff9b-4dbf-92cf-dc3305ebef20",
     "showTitle": false,
     "tableResultSettingsMap": {},
     "title": ""
    }
   },
   "outputs": [],
   "source": [
    "spark.sql(f\"\"\"\n",
    "            CREATE OR REPLACE TEMP VIEW v_results_movie\n",
    "            AS\n",
    "            SELECT M.year_release_date, C.country_name, PCO.company_name, M.budget, M.revenue, M.movie_id, C.country_id, PCO.company_id\n",
    "            FROM movie_silver.movies M\n",
    "            INNER JOIN movie_silver.productions_countries PC ON M.movie_id = PC.movie_id\n",
    "            INNER JOIN movie_silver.countries C ON C.country_id = PC.country_id\n",
    "            INNER JOIN movie_silver.movies_companies MC ON M.movie_id = MC.movie_id\n",
    "            INNER JOIN movie_silver.productions_companies PCO on MC.company_id = PCO.company_id\n",
    "            WHERE M.file_date = '{v_file_date}';\n",
    "\"\"\")\n",
    "\n"
   ]
  },
  {
   "cell_type": "code",
   "execution_count": 0,
   "metadata": {
    "application/vnd.databricks.v1+cell": {
     "cellMetadata": {
      "byteLimit": 2048000,
      "implicitDf": true,
      "rowLimit": 10000
     },
     "inputWidgets": {},
     "nuid": "81d8eede-6c8b-4c37-bb57-fe950cda727b",
     "showTitle": false,
     "tableResultSettingsMap": {},
     "title": ""
    }
   },
   "outputs": [],
   "source": [
    "spark.sql(\"\"\"\n",
    "        MERGE INTO movie_gold.results_movie AS tgt\n",
    "        USING v_results_movie AS src\n",
    "        ON (tgt.movie_id = src.movie_id AND tgt.country_id = src.country_id AND tgt.company_id = src.company_id)\n",
    "        WHEN MATCHED THEN\n",
    "            UPDATE SET\n",
    "                tgt.year_release_date = src.year_release_date,\n",
    "                tgt.country_name = src.country_name,\n",
    "                tgt.company_name = src.company_name,\n",
    "                tgt.budget = src.budget,\n",
    "                tgt.revenue = src.revenue,\n",
    "                tgt.updated_date = current_timestamp\n",
    "        WHEN NOT MATCHED THEN\n",
    "            INSERT (year_release_date, country_name, company_name, budget, revenue,\n",
    "                    movie_id, country_id, company_id, created_date)\n",
    "            VALUES (year_release_date, country_name, company_name, budget, revenue,\n",
    "                    movie_id, country_id, company_id, current_timestamp)     \n",
    "\"\"\")\n"
   ]
  },
  {
   "cell_type": "code",
   "execution_count": 0,
   "metadata": {
    "application/vnd.databricks.v1+cell": {
     "cellMetadata": {
      "byteLimit": 2048000,
      "implicitDf": true,
      "rowLimit": 10000
     },
     "inputWidgets": {},
     "nuid": "39a1d8db-e0fa-442d-b911-5d04447faa53",
     "showTitle": false,
     "tableResultSettingsMap": {},
     "title": ""
    }
   },
   "outputs": [],
   "source": [
    "%sql\n",
    "SELECT count(1) FROM v_results_movie;"
   ]
  },
  {
   "cell_type": "code",
   "execution_count": 0,
   "metadata": {
    "application/vnd.databricks.v1+cell": {
     "cellMetadata": {
      "byteLimit": 2048000,
      "implicitDf": true,
      "rowLimit": 10000
     },
     "inputWidgets": {},
     "nuid": "bd1da312-20c8-481b-a986-3b19d7ae262c",
     "showTitle": false,
     "tableResultSettingsMap": {},
     "title": ""
    }
   },
   "outputs": [],
   "source": [
    "%sql\n",
    "SELECT count(1) FROM movie_gold.results_movie;"
   ]
  }
 ],
 "metadata": {
  "application/vnd.databricks.v1+notebook": {
   "computePreferences": null,
   "dashboards": [],
   "environmentMetadata": {
    "base_environment": "",
    "environment_version": "3"
   },
   "inputWidgetPreferences": null,
   "language": "python",
   "notebookMetadata": {
    "mostRecentlyExecutedCommandWithImplicitDF": {
     "commandId": 6223523323462490,
     "dataframes": [
      "_sqldf"
     ]
    },
    "pythonIndentUnit": 4
   },
   "notebookName": "06.results_movie",
   "widgets": {
    "p_file_date": {
     "currentValue": "2024-12-16",
     "nuid": "20ba328b-2a57-42e2-beb4-8d5b53e30c48",
     "typedWidgetInfo": {
      "autoCreated": false,
      "defaultValue": "2024-12-30",
      "label": null,
      "name": "p_file_date",
      "options": {
       "widgetDisplayType": "Text",
       "validationRegex": null
      },
      "parameterDataType": "String"
     },
     "widgetInfo": {
      "widgetType": "text",
      "defaultValue": "2024-12-30",
      "label": null,
      "name": "p_file_date",
      "options": {
       "widgetType": "text",
       "autoCreated": null,
       "validationRegex": null
      }
     }
    }
   }
  },
  "language_info": {
   "name": "python"
  }
 },
 "nbformat": 4,
 "nbformat_minor": 0
}
