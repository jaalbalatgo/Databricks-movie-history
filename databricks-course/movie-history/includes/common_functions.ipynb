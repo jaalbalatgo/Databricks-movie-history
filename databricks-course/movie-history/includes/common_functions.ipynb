{
 "cells": [
  {
   "cell_type": "code",
   "execution_count": 0,
   "metadata": {
    "application/vnd.databricks.v1+cell": {
     "cellMetadata": {},
     "inputWidgets": {},
     "nuid": "794237d3-ac56-4c8a-b4ff-6dcdd281f1d4",
     "showTitle": false,
     "tableResultSettingsMap": {},
     "title": ""
    }
   },
   "outputs": [],
   "source": [
    "\n",
    "def add_ingestion_date(input_df):\n",
    "    from pyspark.sql.functions import current_timestamp\n",
    "    output_df=input_df.withColumn(\"ingestion_date\", current_timestamp())\n",
    "    return output_df"
   ]
  },
  {
   "cell_type": "code",
   "execution_count": 0,
   "metadata": {
    "application/vnd.databricks.v1+cell": {
     "cellMetadata": {},
     "inputWidgets": {},
     "nuid": "c2f57301-5c2d-4aa0-a5d5-6667d44b46f7",
     "showTitle": false,
     "tableResultSettingsMap": {},
     "title": ""
    }
   },
   "outputs": [],
   "source": [
    "def overwrite_partition(input_df, db_name, table_name, column_partition):\n",
    "    for item_list in input_df.select(f\"{column_partition}\").distinct().collect():\n",
    "      if (spark._jsparkSession.catalog().tableExists(f\"{db_name}.{table_name}\")):\n",
    "        spark.sql(f\"ALTER TABLE {db_name}.{table_name} DROP IF EXISTS PARTITION({column_partition} ='{item_list[column_partition]}')\")"
   ]
  },
  {
   "cell_type": "code",
   "execution_count": 0,
   "metadata": {
    "application/vnd.databricks.v1+cell": {
     "cellMetadata": {},
     "inputWidgets": {},
     "nuid": "7883bec3-e6e9-4a9e-8519-502af04e7bcf",
     "showTitle": false,
     "tableResultSettingsMap": {},
     "title": ""
    }
   },
   "outputs": [],
   "source": [
    "\n",
    "def merge_delta_lake(input_df, db_name, table_name, folder_path, merge_condition, partition_column):\n",
    "    from delta.tables import DeltaTable\n",
    "    if (spark._jsparkSession.catalog().tableExists(f\"{db_name}.{table_name}\")):\n",
    "        \n",
    "        deltaTable = DeltaTable.forPath(spark, f'{folder_path}/{table_name}')\n",
    "\n",
    "        deltaTable.alias('tgt') \\\n",
    "        .merge(\n",
    "            input_df.alias('src'),\n",
    "            merge_condition\n",
    "        ) \\\n",
    "        .whenMatchedUpdateAll() \\\n",
    "        .whenNotMatchedInsertAll() \\\n",
    "        .execute()\n",
    "    else:\n",
    "        input_df.write.mode(\"overwrite\").partitionBy(f\"{partition_column}\").format(\"delta\").saveAsTable(f\"{db_name}.{table_name}\")"
   ]
  }
 ],
 "metadata": {
  "application/vnd.databricks.v1+notebook": {
   "computePreferences": null,
   "dashboards": [],
   "environmentMetadata": {
    "base_environment": "",
    "environment_version": "3"
   },
   "inputWidgetPreferences": null,
   "language": "python",
   "notebookMetadata": {
    "pythonIndentUnit": 4
   },
   "notebookName": "common_functions",
   "widgets": {}
  },
  "language_info": {
   "name": "python"
  }
 },
 "nbformat": 4,
 "nbformat_minor": 0
}
